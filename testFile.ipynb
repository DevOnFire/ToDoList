{
  "nbformat": 4,
  "nbformat_minor": 0,
  "metadata": {
    "colab": {
      "provenance": [],
      "authorship_tag": "ABX9TyMRMWkqA6oAIHHtMOxgacIR",
      "include_colab_link": true
    },
    "kernelspec": {
      "name": "python3",
      "display_name": "Python 3"
    },
    "language_info": {
      "name": "python"
    }
  },
  "cells": [
    {
      "cell_type": "markdown",
      "metadata": {
        "id": "view-in-github",
        "colab_type": "text"
      },
      "source": [
        "<a href=\"https://colab.research.google.com/github/DevOnFire/ToDoList/blob/main/testFile.ipynb\" target=\"_parent\"><img src=\"https://colab.research.google.com/assets/colab-badge.svg\" alt=\"Open In Colab\"/></a>"
      ]
    },
    {
      "cell_type": "code",
      "execution_count": null,
      "metadata": {
        "id": "PBtFVaN1r-V1"
      },
      "outputs": [],
      "source": [
        "print(\"Hello World\")\n",
        "\n",
        "aaa = [1,2,3]\n",
        "\n",
        "for a in aaa:\n",
        "    print(a)"
      ]
    },
    {
      "cell_type": "code",
      "source": [
        "from google.colab import drive\n",
        "drive.mount('/content/gdrive')"
      ],
      "metadata": {
        "id": "KJpECBiUyrm-"
      },
      "execution_count": null,
      "outputs": []
    },
    {
      "cell_type": "code",
      "source": [
        "\n",
        "%cd /content/gdrive/My Drive/DevOnFire/ToDoList\n",
        "!git pull https://github.com/DevOnFire/ToDoList\n"
      ],
      "metadata": {
        "id": "ObWjlDLx1F3T"
      },
      "execution_count": null,
      "outputs": []
    },
    {
      "cell_type": "code",
      "source": [
        "%cd /content/gdrive/My Drive/ToDoList\n",
        "!git pull https://github.com/rnwndnjs94/ToDoList"
      ],
      "metadata": {
        "id": "V-Tc6OJ8BkoK"
      },
      "execution_count": null,
      "outputs": []
    },
    {
      "cell_type": "code",
      "source": [
        "import random as r\n",
        "\n",
        "b = r.randint(3, 50)\n",
        "print(b)\n"
      ],
      "metadata": {
        "id": "OE2fkbGI4-JJ"
      },
      "execution_count": null,
      "outputs": []
    }
  ]
}